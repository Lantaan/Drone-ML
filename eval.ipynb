{
 "cells": [
  {
   "cell_type": "code",
   "id": "3c069a92",
   "metadata": {
    "ExecuteTime": {
     "end_time": "2025-01-20T18:35:01.771319Z",
     "start_time": "2025-01-20T18:34:59.283001Z"
    }
   },
   "source": [
    "import gym\n",
    "#import drone_2d_env\n",
    "\n",
    "from drone_2d_env import *\n",
    "from gym.envs.registration import register\n",
    "\n",
    "register(\n",
    "    id='drone-2d-custom-v0',\n",
    "    entry_point='drone_2d_env:Drone2dEnv',\n",
    "    kwargs={'render_sim': False, 'render_path': True, 'render_shade': True,\n",
    "            'shade_distance': 75, 'n_steps': 500, 'n_fall_steps': 10, 'change_target': False,\n",
    "            'initial_throw': False}\n",
    ")\n",
    "\n",
    "continuous_mode = True #if True, after completing one episode the next one will start automatically\n",
    "render_sim = True\n",
    "\n",
    "env = gym.make('drone-2d-custom-v0', render_sim=True, render_path=True, render_shade=True,\n",
    "            shade_distance=70, n_steps=500, n_fall_steps=10, change_target=True, initial_throw=True)\n",
    "            \n",
    "obs = env.reset()\n",
    "\n",
    "i = 0\n",
    "try:\n",
    "    while i<100:\n",
    "        if render_sim:\n",
    "            env.render()\n",
    "\n",
    "        #change this to make the action not random\n",
    "        action = env.action_space.sample()\n",
    "\n",
    "        obs, reward, done, info = env.step(action)\n",
    "\n",
    "        if done is True:\n",
    "            if continuous_mode is True:\n",
    "                state = env.reset()\n",
    "            else:\n",
    "                break\n",
    "        i+=1\n",
    "\n",
    "finally:\n",
    "    env.close()"
   ],
   "outputs": [],
   "execution_count": 7
  }
 ],
 "metadata": {
  "kernelspec": {
   "display_name": "Python 3 (ipykernel)",
   "language": "python",
   "name": "python3"
  },
  "language_info": {
   "codemirror_mode": {
    "name": "ipython",
    "version": 3
   },
   "file_extension": ".py",
   "mimetype": "text/x-python",
   "name": "python",
   "nbconvert_exporter": "python",
   "pygments_lexer": "ipython3",
   "version": "3.12.3"
  }
 },
 "nbformat": 4,
 "nbformat_minor": 5
}
